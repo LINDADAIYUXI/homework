{
 "cells": [
  {
   "cell_type": "code",
   "execution_count": 2,
   "metadata": {},
   "outputs": [
    {
     "name": "stdout",
     "output_type": "stream",
     "text": [
      "1 2 3 5\n",
      "1 2 5 3\n",
      "1 3 2 5\n",
      "1 3 5 2\n",
      "1 5 2 3\n",
      "1 5 3 2\n",
      "2 1 3 5\n",
      "2 1 5 3\n",
      "2 3 1 5\n",
      "2 3 5 1\n",
      "2 5 1 3\n",
      "2 5 3 1\n",
      "3 1 2 5\n",
      "3 1 5 2\n",
      "3 2 1 5\n",
      "3 2 5 1\n",
      "3 5 1 2\n",
      "3 5 2 1\n",
      "5 1 2 3\n",
      "5 1 3 2\n",
      "5 2 1 3\n",
      "5 2 3 1\n",
      "5 3 1 2\n",
      "5 3 2 1\n"
     ]
    }
   ],
   "source": [
    "for i in (1,2,3,5):\n",
    "    for j in (1,2,3,5):\n",
    "        for k in (1,2,3,5):\n",
    "            for m in (1,2,3,5):\n",
    "                if( i != k ) and (i != j) and (j != k) and(j!=m) and(k!=m)and(i!=m):\n",
    "                    print(i,j,k,m)\n",
    "                \n"
   ]
  },
  {
   "cell_type": "code",
   "execution_count": 3,
   "metadata": {},
   "outputs": [
    {
     "data": {
      "text/plain": [
       "17710"
      ]
     },
     "execution_count": 3,
     "metadata": {},
     "output_type": "execute_result"
    }
   ],
   "source": [
    "def fib(n):\n",
    "    if n == 1:\n",
    "        return [1]\n",
    "    if n == 2:\n",
    "        return [1, 1]\n",
    "    fibs = [1, 1]\n",
    "    for i in range(2, n):\n",
    "        fibs.append(fibs[-1] + fibs[-2])\n",
    "    return fibs\n",
    "F=sum(fib(20))\n",
    "F\n"
   ]
  },
  {
   "cell_type": "code",
   "execution_count": 49,
   "metadata": {},
   "outputs": [
    {
     "ename": "SyntaxError",
     "evalue": "invalid syntax (<ipython-input-49-1d1a2718ca23>, line 22)",
     "output_type": "error",
     "traceback": [
      "\u001b[1;36m  File \u001b[1;32m\"<ipython-input-49-1d1a2718ca23>\"\u001b[1;36m, line \u001b[1;32m22\u001b[0m\n\u001b[1;33m    if sum%2=0:\u001b[0m\n\u001b[1;37m            ^\u001b[0m\n\u001b[1;31mSyntaxError\u001b[0m\u001b[1;31m:\u001b[0m invalid syntax\n"
     ]
    }
   ],
   "source": [
    "def num(x):\n",
    "    h = 0\n",
    "    leap = 1\n",
    "    from math import sqrt\n",
    "    from sys import stdout\n",
    "    for m in range(2,201):\n",
    "        k = int(sqrt(m + 1))\n",
    "        for i in range(2,k + 1):\n",
    "            if m % i == 0:\n",
    "                leap = 0\n",
    "        if leap == 1:\n",
    "            x=( '%-4d' % m)\n",
    "            h += 1\n",
    "        leap = 1\n",
    "    return(x)\n",
    "sum=0\n",
    "x=int(x)\n",
    "x='%-4d' % m\n",
    "while x>0:\n",
    "    sum+=x%10\n",
    "    x=x/10\n",
    "if sum%2=0:\n",
    "    print(x)\n",
    "\n"
   ]
  },
  {
   "cell_type": "code",
   "execution_count": 48,
   "metadata": {
    "collapsed": true
   },
   "outputs": [],
   "source": [
    "h = 0\n",
    "leap = 1\n",
    "from math import sqrt\n",
    "from sys import stdout\n",
    "for m in range(2,201):\n",
    "    k = int(sqrt(m + 1))\n",
    "    for i in range(2,k + 1):\n",
    "        if m % i == 0:\n",
    "            leap = 0\n",
    "            break\n",
    "    if leap == 1:\n",
    "        x=( '%-4d' % m)\n",
    "        list(x)\n",
    "        h += 1\n",
    "    leap = 1\n"
   ]
  },
  {
   "cell_type": "code",
   "execution_count": 94,
   "metadata": {},
   "outputs": [
    {
     "name": "stdout",
     "output_type": "stream",
     "text": [
      "11\n",
      "13\n",
      "15\n",
      "17\n",
      "19\n",
      "31\n",
      "33\n",
      "35\n",
      "37\n",
      "39\n",
      "51\n",
      "53\n",
      "55\n",
      "57\n",
      "59\n",
      "71\n",
      "73\n",
      "75\n",
      "77\n",
      "79\n",
      "91\n",
      "93\n",
      "95\n",
      "97\n",
      "99\n",
      "101\n",
      "103\n",
      "105\n",
      "107\n",
      "109\n",
      "121\n",
      "123\n",
      "125\n",
      "127\n",
      "129\n",
      "141\n",
      "143\n",
      "145\n",
      "147\n",
      "149\n",
      "161\n",
      "163\n",
      "165\n",
      "167\n",
      "169\n",
      "181\n",
      "183\n",
      "185\n",
      "187\n",
      "189\n"
     ]
    }
   ],
   "source": [
    "import math\n",
    "\n",
    "def num_in(n):\n",
    "    for i in range(2,int(math.sqrt(n))+1):\n",
    "        if n%i==0:\n",
    "            return False\n",
    "        return True\n",
    "\n",
    "for n in range(2,201):\n",
    "    b=n\n",
    "    if num_in(n) is True:\n",
    "        sum=0\n",
    "        n=int(n)\n",
    "        while n>0:\n",
    "            sum+=n%10\n",
    "            n=int(n/10)\n",
    "        if sum%2==0:\n",
    "            print(b)\n",
    "        "
   ]
  },
  {
   "cell_type": "code",
   "execution_count": 101,
   "metadata": {},
   "outputs": [
    {
     "name": "stdout",
     "output_type": "stream",
     "text": [
      "2\n",
      "11\n",
      "13\n",
      "17\n",
      "19\n",
      "31\n",
      "37\n",
      "53\n",
      "59\n",
      "71\n",
      "73\n",
      "79\n",
      "97\n",
      "101\n",
      "103\n",
      "107\n",
      "109\n",
      "127\n",
      "149\n",
      "163\n",
      "167\n",
      "181\n"
     ]
    }
   ],
   "source": [
    "for num in range(2,201):\n",
    "    for i in range(2,num):\n",
    "        if(num%i)==0:\n",
    "            break\n",
    "    else:\n",
    "        if(num//10+10+num//100+num)%2==0:\n",
    "            print(num)"
   ]
  },
  {
   "cell_type": "code",
   "execution_count": null,
   "metadata": {
    "collapsed": true
   },
   "outputs": [],
   "source": [
    "\n"
   ]
  },
  {
   "cell_type": "code",
   "execution_count": null,
   "metadata": {
    "collapsed": true
   },
   "outputs": [],
   "source": []
  },
  {
   "cell_type": "code",
   "execution_count": null,
   "metadata": {
    "collapsed": true
   },
   "outputs": [],
   "source": []
  }
 ],
 "metadata": {
  "kernelspec": {
   "display_name": "Python 3",
   "language": "python",
   "name": "python3"
  },
  "language_info": {
   "codemirror_mode": {
    "name": "ipython",
    "version": 3
   },
   "file_extension": ".py",
   "mimetype": "text/x-python",
   "name": "python",
   "nbconvert_exporter": "python",
   "pygments_lexer": "ipython3",
   "version": "3.6.2"
  }
 },
 "nbformat": 4,
 "nbformat_minor": 2
}
